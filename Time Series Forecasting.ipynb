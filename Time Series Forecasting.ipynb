{
 "cells": [
  {
   "cell_type": "markdown",
   "id": "b68977c7",
   "metadata": {},
   "source": [
    "# Time Series Forecasting"
   ]
  },
  {
   "cell_type": "markdown",
   "id": "66398cea",
   "metadata": {},
   "source": [
    "##  Univariate Time Series Analysis/Forecasting. - one variable"
   ]
  },
  {
   "cell_type": "code",
   "execution_count": 1,
   "id": "4ddd4ad5",
   "metadata": {},
   "outputs": [],
   "source": [
    "import pandas as pd\n",
    "import numpy as np\n",
    "import seaborn as sns\n",
    "import matplotlib.pyplot as plt\n",
    "%matplotlib inline"
   ]
  },
  {
   "cell_type": "code",
   "execution_count": 2,
   "id": "9866a70a",
   "metadata": {},
   "outputs": [],
   "source": [
    "data=pd.read_csv('daily-minimum-temperatures.csv',header=0,names=['date','temperature'])"
   ]
  },
  {
   "cell_type": "code",
   "execution_count": 3,
   "id": "2c5bf0db",
   "metadata": {},
   "outputs": [
    {
     "data": {
      "text/html": [
       "<div>\n",
       "<style scoped>\n",
       "    .dataframe tbody tr th:only-of-type {\n",
       "        vertical-align: middle;\n",
       "    }\n",
       "\n",
       "    .dataframe tbody tr th {\n",
       "        vertical-align: top;\n",
       "    }\n",
       "\n",
       "    .dataframe thead th {\n",
       "        text-align: right;\n",
       "    }\n",
       "</style>\n",
       "<table border=\"1\" class=\"dataframe\">\n",
       "  <thead>\n",
       "    <tr style=\"text-align: right;\">\n",
       "      <th></th>\n",
       "      <th>date</th>\n",
       "      <th>temperature</th>\n",
       "    </tr>\n",
       "  </thead>\n",
       "  <tbody>\n",
       "    <tr>\n",
       "      <th>3645</th>\n",
       "      <td>12/27/1990</td>\n",
       "      <td>14.0</td>\n",
       "    </tr>\n",
       "    <tr>\n",
       "      <th>3646</th>\n",
       "      <td>12/28/1990</td>\n",
       "      <td>13.6</td>\n",
       "    </tr>\n",
       "    <tr>\n",
       "      <th>3647</th>\n",
       "      <td>12/29/1990</td>\n",
       "      <td>13.5</td>\n",
       "    </tr>\n",
       "    <tr>\n",
       "      <th>3648</th>\n",
       "      <td>12/30/1990</td>\n",
       "      <td>15.7</td>\n",
       "    </tr>\n",
       "    <tr>\n",
       "      <th>3649</th>\n",
       "      <td>12/31/1990</td>\n",
       "      <td>13.0</td>\n",
       "    </tr>\n",
       "  </tbody>\n",
       "</table>\n",
       "</div>"
      ],
      "text/plain": [
       "            date  temperature\n",
       "3645  12/27/1990         14.0\n",
       "3646  12/28/1990         13.6\n",
       "3647  12/29/1990         13.5\n",
       "3648  12/30/1990         15.7\n",
       "3649  12/31/1990         13.0"
      ]
     },
     "execution_count": 3,
     "metadata": {},
     "output_type": "execute_result"
    }
   ],
   "source": [
    "data.tail()\n"
   ]
  },
  {
   "cell_type": "code",
   "execution_count": 4,
   "id": "21c9f8ff",
   "metadata": {},
   "outputs": [
    {
     "data": {
      "text/plain": [
       "date            object\n",
       "temperature    float64\n",
       "dtype: object"
      ]
     },
     "execution_count": 4,
     "metadata": {},
     "output_type": "execute_result"
    }
   ],
   "source": [
    "data.dtypes"
   ]
  },
  {
   "cell_type": "code",
   "execution_count": 5,
   "id": "c0336ecf",
   "metadata": {},
   "outputs": [],
   "source": [
    "data['temperature'] = data['temperature'].astype(float)"
   ]
  },
  {
   "cell_type": "code",
   "execution_count": 7,
   "id": "9eace8e9",
   "metadata": {},
   "outputs": [
    {
     "data": {
      "text/plain": [
       "date            object\n",
       "temperature    float64\n",
       "dtype: object"
      ]
     },
     "execution_count": 7,
     "metadata": {},
     "output_type": "execute_result"
    }
   ],
   "source": [
    "data.dtypes"
   ]
  },
  {
   "cell_type": "code",
   "execution_count": 6,
   "id": "c67199bc",
   "metadata": {},
   "outputs": [
    {
     "data": {
      "image/png": "[encoded data removed]",
      "text/plain": [
       "<Figure size 432x288 with 1 Axes>"
      ]
     },
     "metadata": {
      "needs_background": "light"
     },
     "output_type": "display_data"
    }
   ],
   "source": [
    "data.plot()\n",
    "plt.show()"
   ]
  },
  {
   "cell_type": "markdown",
   "id": "15863492",
   "metadata": {},
   "source": [
    "### Here the pattern is seasonal "
   ]
  },
  {
   "cell_type": "markdown",
   "id": "e3c4b9e3",
   "metadata": {},
   "source": [
    "## Multi-variate Time Series -more than one time-dependent variable"
   ]
  },
  {
   "cell_type": "code",
   "execution_count": 10,
   "id": "e637fbc1",
   "metadata": {},
   "outputs": [
    {
     "name": "stdout",
     "output_type": "stream",
     "text": [
      "                     pollution  dew  temp   press wnd_dir  wnd_spd  snow  rain\n",
      "date                                                                          \n",
      "2010-01-02 00:00:00      129.0  -16  -4.0  1020.0      SE     1.79     0     0\n",
      "2010-01-02 01:00:00      148.0  -15  -4.0  1020.0      SE     2.68     0     0\n",
      "2010-01-02 02:00:00      159.0  -11  -5.0  1021.0      SE     3.57     0     0\n",
      "2010-01-02 03:00:00      181.0   -7  -5.0  1022.0      SE     5.36     1     0\n",
      "2010-01-02 04:00:00      138.0   -7  -5.0  1022.0      SE     6.25     2     0\n"
     ]
    }
   ],
   "source": [
    "from pandas import read_csv\n",
    "from datetime import datetime\n",
    "\n",
    "def parse(x):\n",
    "    return datetime.strptime(x, '%Y %m %d %H')\n",
    "\n",
    "dataset = read_csv('raw.csv',  parse_dates = [['year', 'month', 'day', 'hour']],\n",
    "                   index_col=0, date_parser=parse)\n",
    "dataset.drop('No', axis=1, inplace=True)\n",
    "\n",
    "\n",
    "dataset.columns = ['pollution', 'dew', 'temp', 'press', 'wnd_dir', 'wnd_spd', 'snow', 'rain']\n",
    "dataset.index.name = 'date'\n",
    "\n",
    "\n",
    "dataset['pollution'].fillna(0, inplace=True)\n",
    "\n",
    "\n",
    "dataset = dataset[24:]\n",
    "\n",
    "\n",
    "print(dataset.head(5))"
   ]
  },
  {
   "cell_type": "code",
   "execution_count": 11,
   "id": "9ebbb512",
   "metadata": {},
   "outputs": [
    {
     "data": {
      "text/plain": [
       "array([[129.0, -16, -4.0, ..., 1.79, 0, 0],\n",
       "       [148.0, -15, -4.0, ..., 2.68, 0, 0],\n",
       "       [159.0, -11, -5.0, ..., 3.57, 0, 0],\n",
       "       ...,\n",
       "       [10.0, -22, -3.0, ..., 242.7, 0, 0],\n",
       "       [8.0, -22, -4.0, ..., 246.72, 0, 0],\n",
       "       [12.0, -21, -3.0, ..., 249.85, 0, 0]], dtype=object)"
      ]
     },
     "execution_count": 11,
     "metadata": {},
     "output_type": "execute_result"
    }
   ],
   "source": [
    "values = dataset.values\n",
    "values"
   ]
  },
  {
   "cell_type": "code",
   "execution_count": 12,
   "id": "7d737501",
   "metadata": {},
   "outputs": [
    {
     "data": {
      "image/png": "[encoded data removed]",
      "text/plain": [
       "<Figure size 432x288 with 7 Axes>"
      ]
     },
     "metadata": {
      "needs_background": "light"
     },
     "output_type": "display_data"
    }
   ],
   "source": [
    "groups = [0, 1, 2, 3, 5, 6, 7]\n",
    "i = 1\n",
    "\n",
    "# plot each column\n",
    "plt.figure()\n",
    "\n",
    "for group in groups:\n",
    "    plt.subplot(len(groups), 1, i)\n",
    "    plt.plot(values[:, group])\n",
    "    plt.title(dataset.columns[group], y=0.5, loc='right')\n",
    "    i += 1\n",
    "    \n",
    "plt.show()"
   ]
  },
  {
   "cell_type": "markdown",
   "id": "237daa06",
   "metadata": {},
   "source": [
    "### We have created a plot with 7 subplots showing the 5 years of data for each variable."
   ]
  },
  {
   "cell_type": "markdown",
   "id": "989582fb",
   "metadata": {},
   "source": [
    "# Trend data"
   ]
  },
  {
   "cell_type": "code",
   "execution_count": 33,
   "id": "f0a235d5",
   "metadata": {},
   "outputs": [
    {
     "data": {
      "text/html": [
       "<div>\n",
       "<style scoped>\n",
       "    .dataframe tbody tr th:only-of-type {\n",
       "        vertical-align: middle;\n",
       "    }\n",
       "\n",
       "    .dataframe tbody tr th {\n",
       "        vertical-align: top;\n",
       "    }\n",
       "\n",
       "    .dataframe thead th {\n",
       "        text-align: right;\n",
       "    }\n",
       "</style>\n",
       "<table border=\"1\" class=\"dataframe\">\n",
       "  <thead>\n",
       "    <tr style=\"text-align: right;\">\n",
       "      <th></th>\n",
       "      <th>0</th>\n",
       "      <th>1</th>\n",
       "      <th>2</th>\n",
       "      <th>3</th>\n",
       "      <th>4</th>\n",
       "    </tr>\n",
       "  </thead>\n",
       "  <tbody>\n",
       "    <tr>\n",
       "      <th>Year</th>\n",
       "      <td>1960</td>\n",
       "      <td>1961</td>\n",
       "      <td>1962</td>\n",
       "      <td>1963</td>\n",
       "      <td>1964</td>\n",
       "    </tr>\n",
       "    <tr>\n",
       "      <th>GDPpercapita</th>\n",
       "      <td>81.2848</td>\n",
       "      <td>84.4264</td>\n",
       "      <td>88.9149</td>\n",
       "      <td>100.049</td>\n",
       "      <td>114.315</td>\n",
       "    </tr>\n",
       "    <tr>\n",
       "      <th>TimeIndex</th>\n",
       "      <td>1960-12-31 00:00:00</td>\n",
       "      <td>1961-12-31 00:00:00</td>\n",
       "      <td>1962-12-31 00:00:00</td>\n",
       "      <td>1963-12-31 00:00:00</td>\n",
       "      <td>1964-12-31 00:00:00</td>\n",
       "    </tr>\n",
       "  </tbody>\n",
       "</table>\n",
       "</div>"
      ],
      "text/plain": [
       "                                0                    1                    2  \\\n",
       "Year                         1960                 1961                 1962   \n",
       "GDPpercapita              81.2848              84.4264              88.9149   \n",
       "TimeIndex     1960-12-31 00:00:00  1961-12-31 00:00:00  1962-12-31 00:00:00   \n",
       "\n",
       "                                3                    4  \n",
       "Year                         1963                 1964  \n",
       "GDPpercapita              100.049              114.315  \n",
       "TimeIndex     1963-12-31 00:00:00  1964-12-31 00:00:00  "
      ]
     },
     "execution_count": 33,
     "metadata": {},
     "output_type": "execute_result"
    }
   ],
   "source": [
    "IndiaGDP = pd.read_csv('GDPIndia.csv', header=0)\n",
    "\n",
    "date_rng = pd.date_range(start='1/1/1960', end='31/12/2017', freq='A')\n",
    "\n",
    "IndiaGDP['TimeIndex'] = pd.DataFrame(date_rng, columns=['Year'])\n",
    "IndiaGDP.head(5).T"
   ]
  },
  {
   "cell_type": "code",
   "execution_count": 34,
   "id": "fdcccd53",
   "metadata": {},
   "outputs": [
    {
     "data": {
      "image/png": "[encoded data removed]",
      "text/plain": [
       "<Figure size 432x288 with 1 Axes>"
      ]
     },
     "metadata": {
      "needs_background": "light"
     },
     "output_type": "display_data"
    }
   ],
   "source": [
    "plt.plot(IndiaGDP.TimeIndex, IndiaGDP.GDPpercapita)\n",
    "plt.show()"
   ]
  },
  {
   "cell_type": "code",
   "execution_count": 35,
   "id": "bf80b636",
   "metadata": {},
   "outputs": [],
   "source": [
    "import pickle\n",
    "\n",
    "with open('GDPIndia.obj', 'wb') as fp:\n",
    "        pickle.dump(IndiaGDP, fp)"
   ]
  },
  {
   "cell_type": "code",
   "execution_count": 36,
   "id": "11291c3f",
   "metadata": {},
   "outputs": [
    {
     "data": {
      "text/html": [
       "<div>\n",
       "<style scoped>\n",
       "    .dataframe tbody tr th:only-of-type {\n",
       "        vertical-align: middle;\n",
       "    }\n",
       "\n",
       "    .dataframe tbody tr th {\n",
       "        vertical-align: top;\n",
       "    }\n",
       "\n",
       "    .dataframe thead th {\n",
       "        text-align: right;\n",
       "    }\n",
       "</style>\n",
       "<table border=\"1\" class=\"dataframe\">\n",
       "  <thead>\n",
       "    <tr style=\"text-align: right;\">\n",
       "      <th></th>\n",
       "      <th>0</th>\n",
       "      <th>1</th>\n",
       "      <th>2</th>\n",
       "      <th>3</th>\n",
       "      <th>4</th>\n",
       "    </tr>\n",
       "  </thead>\n",
       "  <tbody>\n",
       "    <tr>\n",
       "      <th>Year</th>\n",
       "      <td>1960</td>\n",
       "      <td>1961</td>\n",
       "      <td>1962</td>\n",
       "      <td>1963</td>\n",
       "      <td>1964</td>\n",
       "    </tr>\n",
       "    <tr>\n",
       "      <th>GDPpercapita</th>\n",
       "      <td>81.2848</td>\n",
       "      <td>84.4264</td>\n",
       "      <td>88.9149</td>\n",
       "      <td>100.049</td>\n",
       "      <td>114.315</td>\n",
       "    </tr>\n",
       "    <tr>\n",
       "      <th>TimeIndex</th>\n",
       "      <td>1960-12-31 00:00:00</td>\n",
       "      <td>1961-12-31 00:00:00</td>\n",
       "      <td>1962-12-31 00:00:00</td>\n",
       "      <td>1963-12-31 00:00:00</td>\n",
       "      <td>1964-12-31 00:00:00</td>\n",
       "    </tr>\n",
       "  </tbody>\n",
       "</table>\n",
       "</div>"
      ],
      "text/plain": [
       "                                0                    1                    2  \\\n",
       "Year                         1960                 1961                 1962   \n",
       "GDPpercapita              81.2848              84.4264              88.9149   \n",
       "TimeIndex     1960-12-31 00:00:00  1961-12-31 00:00:00  1962-12-31 00:00:00   \n",
       "\n",
       "                                3                    4  \n",
       "Year                         1963                 1964  \n",
       "GDPpercapita              100.049              114.315  \n",
       "TimeIndex     1963-12-31 00:00:00  1964-12-31 00:00:00  "
      ]
     },
     "execution_count": 36,
     "metadata": {},
     "output_type": "execute_result"
    }
   ],
   "source": [
    "### Retrieve the pickle object\n",
    "\n",
    "with open('GDPIndia.obj', 'rb') as fp:\n",
    "     IndiaGDP1 = pickle.load(fp)\n",
    "        \n",
    "IndiaGDP1.head(5).T"
   ]
  },
  {
   "cell_type": "markdown",
   "id": "95ae89b5",
   "metadata": {},
   "source": [
    "# Decomposition of Time Series: Additive and Multiplicative model\t\t"
   ]
  },
  {
   "cell_type": "code",
   "execution_count": 43,
   "id": "944e2a3b",
   "metadata": {},
   "outputs": [
    {
     "data": {
      "image/png": "[encoded data removed]",
      "text/plain": [
       "<Figure size 432x288 with 1 Axes>"
      ]
     },
     "metadata": {
      "needs_background": "light"
     },
     "output_type": "display_data"
    }
   ],
   "source": [
    "from    pandas                   import   read_csv, Grouper, DataFrame, concat\n",
    "import  matplotlib.pyplot        as       plt\n",
    "import  statsmodels\n",
    "from    statsmodels.tsa.seasonal import   seasonal_decompose\n",
    "from    datetime                 import   datetime\n",
    "import  statsmodels.api          as       sm\n",
    "\n",
    "Turnover              = pd.read_csv('RetailTurnover.csv')\n",
    "date_rng              = pd.date_range(start='1/7/1982', end='31/3/1992', freq='Q')\n",
    "Turnover['TimeIndex'] = pd.DataFrame(date_rng, columns=['Quarter'])\n",
    "Turnover.head()\n",
    "\n",
    "plt.plot(Turnover.TimeIndex, Turnover.Turnover)\n",
    "plt.show()"
   ]
  },
  {
   "cell_type": "code",
   "execution_count": 44,
   "id": "e30027f1",
   "metadata": {},
   "outputs": [
    {
     "name": "stderr",
     "output_type": "stream",
     "text": [
      "c:\\users\\vikee\\anaconda3\\envs\\nlpproj\\lib\\site-packages\\ipykernel_launcher.py:1: FutureWarning: the 'freq'' keyword is deprecated, use 'period' instead\n",
      "  \"\"\"Entry point for launching an IPython kernel.\n"
     ]
    },
    {
     "data": {
      "image/png": "[encoded data removed]",
      "text/plain": [
       "<Figure size 432x288 with 4 Axes>"
      ]
     },
     "metadata": {
      "needs_background": "light"
     },
     "output_type": "display_data"
    }
   ],
   "source": [
    "decompTurnover = sm.tsa.seasonal_decompose(Turnover.Turnover, model=\"additive\", freq=4)\n",
    "decompTurnover.plot()\n",
    "plt.show()"
   ]
  },
  {
   "cell_type": "markdown",
   "id": "cad85663",
   "metadata": {},
   "source": [
    "# Exponential Smoothing"
   ]
  },
  {
   "cell_type": "code",
   "execution_count": 48,
   "id": "6aed8a78",
   "metadata": {},
   "outputs": [
    {
     "name": "stdout",
     "output_type": "stream",
     "text": [
      "Data range :  12\n"
     ]
    },
    {
     "name": "stderr",
     "output_type": "stream",
     "text": [
      "c:\\users\\vikee\\anaconda3\\envs\\nlpproj\\lib\\site-packages\\ipykernel_launcher.py:10: FutureWarning: The pandas.datetime class is deprecated and will be removed from pandas in a future version. Import from datetime instead.\n",
      "  # Remove the CWD from sys.path while we load stuff.\n"
     ]
    }
   ],
   "source": [
    "import pandas                          as      pd\n",
    "import numpy                           as      np\n",
    "import matplotlib.pyplot               as      plt\n",
    "import statsmodels.tsa.holtwinters     as      ets\n",
    "import statsmodels.tools.eval_measures as      fa\n",
    "from   sklearn.metrics                 import  mean_squared_error\n",
    "\n",
    "\n",
    "def parser(x):\n",
    "       return pd.datetime.strptime(x, '%Y')\n",
    "\n",
    "series  =  pd.read_csv('oildata.csv', header = 0, index_col = 0, parse_dates = True, squeeze = True, date_parser = parser)\n",
    "print('Data range : ',  len(series))\n"
   ]
  },
  {
   "cell_type": "code",
   "execution_count": 49,
   "id": "93795705",
   "metadata": {},
   "outputs": [
    {
     "data": {
      "text/plain": [
       "Year\n",
       "1996-01-01    445.364098\n",
       "1997-01-01    453.195010\n",
       "1998-01-01    454.409641\n",
       "1999-01-01    422.378906\n",
       "2000-01-01    456.037122\n",
       "Name:  Quantity, dtype: float64"
      ]
     },
     "execution_count": 49,
     "metadata": {},
     "output_type": "execute_result"
    }
   ],
   "source": [
    "series.head()"
   ]
  },
  {
   "cell_type": "code",
   "execution_count": 50,
   "id": "a4fe6f7b",
   "metadata": {},
   "outputs": [
    {
     "name": "stdout",
     "output_type": "stream",
     "text": [
      "\n",
      "== Brown Simple Exponential Smoothing ETS (A, N, N) Parameters ==\n",
      "\n",
      "Smoothing Level 0.7955\n",
      "Initial Level 446.7952\n",
      "\n"
     ]
    },
    {
     "name": "stderr",
     "output_type": "stream",
     "text": [
      "c:\\users\\vikee\\anaconda3\\envs\\nlpproj\\lib\\site-packages\\ipykernel_launcher.py:1: FutureWarning: the 'damped'' keyword is deprecated, use 'damped_trend' instead\n",
      "  \"\"\"Entry point for launching an IPython kernel.\n",
      "c:\\users\\vikee\\anaconda3\\envs\\nlpproj\\lib\\site-packages\\statsmodels\\tsa\\base\\tsa_model.py:527: ValueWarning: No frequency information was provided, so inferred frequency AS-JAN will be used.\n",
      "  % freq, ValueWarning)\n",
      "c:\\users\\vikee\\anaconda3\\envs\\nlpproj\\lib\\site-packages\\statsmodels\\tsa\\holtwinters\\model.py:429: FutureWarning: After 0.13 initialization must be handled at model creation\n",
      "  FutureWarning,\n"
     ]
    },
    {
     "data": {
      "text/html": [
       "<div>\n",
       "<style scoped>\n",
       "    .dataframe tbody tr th:only-of-type {\n",
       "        vertical-align: middle;\n",
       "    }\n",
       "\n",
       "    .dataframe tbody tr th {\n",
       "        vertical-align: top;\n",
       "    }\n",
       "\n",
       "    .dataframe thead th {\n",
       "        text-align: right;\n",
       "    }\n",
       "</style>\n",
       "<table border=\"1\" class=\"dataframe\">\n",
       "  <thead>\n",
       "    <tr style=\"text-align: right;\">\n",
       "      <th></th>\n",
       "      <th>0</th>\n",
       "    </tr>\n",
       "  </thead>\n",
       "  <tbody>\n",
       "    <tr>\n",
       "      <th>2008-01-01</th>\n",
       "      <td>493.281894</td>\n",
       "    </tr>\n",
       "    <tr>\n",
       "      <th>2009-01-01</th>\n",
       "      <td>493.281894</td>\n",
       "    </tr>\n",
       "    <tr>\n",
       "      <th>2010-01-01</th>\n",
       "      <td>493.281894</td>\n",
       "    </tr>\n",
       "  </tbody>\n",
       "</table>\n",
       "</div>"
      ],
      "text/plain": [
       "                     0\n",
       "2008-01-01  493.281894\n",
       "2009-01-01  493.281894\n",
       "2010-01-01  493.281894"
      ]
     },
     "execution_count": 50,
     "metadata": {},
     "output_type": "execute_result"
    }
   ],
   "source": [
    "pred = ets.ExponentialSmoothing(series, trend = None, damped = False, seasonal = None).fit()\n",
    "print('')\n",
    "print('== Brown Simple Exponential Smoothing ETS (A, N, N) Parameters ==')\n",
    "print('')\n",
    "print('Smoothing Level', np.round(pred.params['smoothing_level'], 4))\n",
    "print('Initial Level', np.round(pred.params['initial_level'], 4))\n",
    "print('')\n",
    "y_pred = pred.forecast(steps = 3)\n",
    "y_pred = pd.DataFrame(y_pred)\n",
    "y_pred"
   ]
  },
  {
   "cell_type": "code",
   "execution_count": 51,
   "id": "2fa6e840",
   "metadata": {},
   "outputs": [
    {
     "name": "stdout",
     "output_type": "stream",
     "text": [
      "RMSE is 24.7839\n"
     ]
    }
   ],
   "source": [
    "y_pred1    =  pred.predict(start = series.index[0])\n",
    "\n",
    "rmse       =  np.sqrt(mean_squared_error(series, y_pred1))\n",
    "print('RMSE is %3.4f'  %rmse)"
   ]
  },
  {
   "cell_type": "markdown",
   "id": "50961d46",
   "metadata": {},
   "source": [
    "# Double Exponential Smoothing\n"
   ]
  },
  {
   "cell_type": "code",
   "execution_count": 52,
   "id": "b4e9cb57",
   "metadata": {},
   "outputs": [],
   "source": [
    "import pandas                          as      pd\n",
    "import numpy                           as      np\n",
    "import matplotlib.pyplot               as      plt\n",
    "import statsmodels.tsa.holtwinters     as      ets\n",
    "import statsmodels.tools.eval_measures as      fa\n",
    "from   sklearn.metrics                 import  mean_squared_error\n",
    "from   statsmodels.tsa.holtwinters     import  SimpleExpSmoothing, Holt"
   ]
  },
  {
   "cell_type": "code",
   "execution_count": 53,
   "id": "f576c11c",
   "metadata": {},
   "outputs": [],
   "source": [
    "Petrol=pd.read_csv('Petrol.csv')"
   ]
  },
  {
   "cell_type": "code",
   "execution_count": 54,
   "id": "c385c7fc",
   "metadata": {},
   "outputs": [
    {
     "data": {
      "text/html": [
       "<div>\n",
       "<style scoped>\n",
       "    .dataframe tbody tr th:only-of-type {\n",
       "        vertical-align: middle;\n",
       "    }\n",
       "\n",
       "    .dataframe tbody tr th {\n",
       "        vertical-align: top;\n",
       "    }\n",
       "\n",
       "    .dataframe thead th {\n",
       "        text-align: right;\n",
       "    }\n",
       "</style>\n",
       "<table border=\"1\" class=\"dataframe\">\n",
       "  <thead>\n",
       "    <tr style=\"text-align: right;\">\n",
       "      <th></th>\n",
       "      <th>Year</th>\n",
       "      <th>Quarter</th>\n",
       "      <th>Consumption</th>\n",
       "    </tr>\n",
       "  </thead>\n",
       "  <tbody>\n",
       "    <tr>\n",
       "      <th>0</th>\n",
       "      <td>2001</td>\n",
       "      <td>Q1</td>\n",
       "      <td>14.978</td>\n",
       "    </tr>\n",
       "    <tr>\n",
       "      <th>1</th>\n",
       "      <td>2001</td>\n",
       "      <td>Q2</td>\n",
       "      <td>11.099</td>\n",
       "    </tr>\n",
       "    <tr>\n",
       "      <th>2</th>\n",
       "      <td>2001</td>\n",
       "      <td>Q3</td>\n",
       "      <td>10.057</td>\n",
       "    </tr>\n",
       "    <tr>\n",
       "      <th>3</th>\n",
       "      <td>2001</td>\n",
       "      <td>Q4</td>\n",
       "      <td>10.454</td>\n",
       "    </tr>\n",
       "    <tr>\n",
       "      <th>4</th>\n",
       "      <td>2002</td>\n",
       "      <td>Q1</td>\n",
       "      <td>9.295</td>\n",
       "    </tr>\n",
       "  </tbody>\n",
       "</table>\n",
       "</div>"
      ],
      "text/plain": [
       "   Year Quarter  Consumption\n",
       "0  2001      Q1       14.978\n",
       "1  2001      Q2       11.099\n",
       "2  2001      Q3       10.057\n",
       "3  2001      Q4       10.454\n",
       "4  2002      Q1        9.295"
      ]
     },
     "execution_count": 54,
     "metadata": {},
     "output_type": "execute_result"
    }
   ],
   "source": [
    "Petrol.head()"
   ]
  },
  {
   "cell_type": "code",
   "execution_count": 58,
   "id": "bcb83615",
   "metadata": {},
   "outputs": [
    {
     "name": "stdout",
     "output_type": "stream",
     "text": [
      "\n",
      "==Holt model Exponential Smoothing Parameters ==\n",
      "\n",
      "Smoothing Level 1.0\n",
      "Initial Level 15.263\n",
      "\n"
     ]
    }
   ],
   "source": [
    "model = Holt(np.asarray(Petrol['Consumption']))\n",
    "\n",
    "model_fit = model.fit()\n",
    "\n",
    "print('')\n",
    "print('==Holt model Exponential Smoothing Parameters ==')\n",
    "print('')\n",
    "alpha_value = np.round(model_fit.params['smoothing_level'], 4)\n",
    "print('Smoothing Level', alpha_value )\n",
    "print('Initial Level',   np.round(model_fit.params['initial_level'], 4))\n",
    "print('')\n"
   ]
  },
  {
   "cell_type": "code",
   "execution_count": null,
   "id": "56f83807",
   "metadata": {},
   "outputs": [],
   "source": []
  }
 ],
 "metadata": {
  "kernelspec": {
   "display_name": "Python 3",
   "language": "python",
   "name": "python3"
  },
  "language_info": {
   "codemirror_mode": {
    "name": "ipython",
    "version": 3
   },
   "file_extension": ".py",
   "mimetype": "text/x-python",
   "name": "python",
   "nbconvert_exporter": "python",
   "pygments_lexer": "ipython3",
   "version": "3.6.13"
  }
 },
 "nbformat": 4,
 "nbformat_minor": 5
}
